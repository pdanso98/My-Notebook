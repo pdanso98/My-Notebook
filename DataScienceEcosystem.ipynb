{
 "cells": [
  {
   "cell_type": "markdown",
   "id": "494090a8-8cde-4f52-878e-917275f42e91",
   "metadata": {},
   "source": [
    "# Data Science Tools and Ecosystem"
   ]
  },
  {
   "cell_type": "markdown",
   "id": "81d7cb10-dce9-476f-9f47-4038b368117e",
   "metadata": {},
   "source": [
    "In this notebook, Data Science Tools and Ecosystem are summarized."
   ]
  },
  {
   "cell_type": "markdown",
   "id": "a8e456fa-a0e9-407b-889f-95f75941472b",
   "metadata": {},
   "source": [
    "Some of the popular languages that Data Scientists use are:\n",
    "1. R\n",
    "2. Python\n",
    "3. Java\n",
    "4. C++\n",
    "5. Julia"
   ]
  },
  {
   "cell_type": "markdown",
   "id": "6abf80f5-5fc2-4f35-8d48-4572ab36cefd",
   "metadata": {},
   "source": [
    "Some of the commonly used libraries used by Data Scientists include:\n",
    "1. Numpy\n",
    "2. Matplotlib\n",
    "3. Pandas\n",
    "4. Tidyverse\n",
    "5. GGplot2"
   ]
  },
  {
   "cell_type": "markdown",
   "id": "138a71f5-a249-447d-a70b-5389c684e181",
   "metadata": {},
   "source": [
    "|Data Science Tools|\n",
    "|------------|\n",
    "|RStudio|\n",
    "|Jupyter Notebook|\n",
    "|Spyder|\n",
    "|Apache|"
   ]
  },
  {
   "cell_type": "markdown",
   "id": "4c3e0d3e-6be5-4822-abcb-cbc9db520755",
   "metadata": {},
   "source": [
    "### Below are a few examples of evaluating arithmetic expressions in Python\n"
   ]
  },
  {
   "cell_type": "code",
   "execution_count": 8,
   "id": "923b8c2a-121b-471c-900a-cf6a24dbd282",
   "metadata": {},
   "outputs": [
    {
     "data": {
      "text/plain": [
       "17"
      ]
     },
     "execution_count": 8,
     "metadata": {},
     "output_type": "execute_result"
    }
   ],
   "source": [
    "#This a simple arithmetic expression to mutiply then add integers\n",
    "(3*4)+5"
   ]
  },
  {
   "cell_type": "code",
   "execution_count": 16,
   "id": "ac56ce0f-6949-4250-9915-df8d20381a50",
   "metadata": {},
   "outputs": [
    {
     "data": {
      "text/plain": [
       "3.3333333333333335"
      ]
     },
     "execution_count": 16,
     "metadata": {},
     "output_type": "execute_result"
    }
   ],
   "source": [
    "#This will convert 200 minutes to hours by diving by 60\n",
    "200/60"
   ]
  },
  {
   "cell_type": "markdown",
   "id": "e4da5722-bbb9-448f-a92f-e4b1420c87eb",
   "metadata": {},
   "source": [
    "**Objectives**\n",
    "List popular languages for Data Science\n",
    "  \n",
    "+ R\n",
    "+ python\n",
    "+ julia\n",
    "+ java\n",
    "+ C++"
   ]
  },
  {
   "cell_type": "markdown",
   "id": "975d858c-80d3-46af-9c17-0eea669d142f",
   "metadata": {},
   "source": [
    "## Author\n",
    "Patrick Danso"
   ]
  },
  {
   "cell_type": "code",
   "execution_count": null,
   "id": "717a00b3-7127-493d-ba9f-1b3f54cc000e",
   "metadata": {},
   "outputs": [],
   "source": []
  }
 ],
 "metadata": {
  "kernelspec": {
   "display_name": "Python 3 (ipykernel)",
   "language": "python",
   "name": "python3"
  },
  "language_info": {
   "codemirror_mode": {
    "name": "ipython",
    "version": 3
   },
   "file_extension": ".py",
   "mimetype": "text/x-python",
   "name": "python",
   "nbconvert_exporter": "python",
   "pygments_lexer": "ipython3",
   "version": "3.12.4"
  }
 },
 "nbformat": 4,
 "nbformat_minor": 5
}
